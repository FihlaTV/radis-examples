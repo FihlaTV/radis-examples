{
 "cells": [
  {
   "cell_type": "markdown",
   "metadata": {},
   "source": [
    "# First Example\n",
    "\n",
    "Run the [Quick Start](https://radis.readthedocs.io/en/latest/#quick-start) example from the [RADIS documentation](https://radis.readthedocs.io) \n",
    "\n",
    "---\n",
    "\n",
    "Run the different Cells with the Run command above (or Cell/Runs All).\n",
    "First initialize the environment:"
   ]
  },
  {
   "cell_type": "code",
   "execution_count": null,
   "metadata": {},
   "outputs": [],
   "source": [
    "%matplotlib inline"
   ]
  },
  {
   "cell_type": "markdown",
   "metadata": {},
   "source": [
    "Now let's do a first calculation of an Equilibrium spectrum."
   ]
  },
  {
   "cell_type": "code",
   "execution_count": null,
   "metadata": {},
   "outputs": [],
   "source": [
    "from radis import calc_spectrum\n",
    "s = calc_spectrum(1900, 2300,         # cm-1\n",
    "                  molecule='CO',\n",
    "                  isotope='1,2,3',\n",
    "                  pressure=1.01325,   # bar\n",
    "                  Tgas=1000,          # K\n",
    "                  mole_fraction=0.1,\n",
    "                  path_length=1,      # cm\n",
    "                  )\n",
    "s.apply_slit(0.5, 'nm')\n",
    "s.plot('radiance')"
   ]
  },
  {
   "cell_type": "markdown",
   "metadata": {},
   "source": [
    "See the [RADIS Documentation: Spectrum how to?](radis.readthedocs.io/en/latest/spectrum/howto.html) for more post-processing methods\n",
    "\n",
    "Below, we calculate a Nonequilibrium spectrum. Rovibrational energies will be calculated automatically from RADIS [built-in spectroscopic constants](https://radis.readthedocs.io/en/latest/#spectroscopic-constants) "
   ]
  },
  {
   "cell_type": "code",
   "execution_count": null,
   "metadata": {},
   "outputs": [],
   "source": [
    "s2 = calc_spectrum(1900, 2300,         # cm-1\n",
    "                  molecule='CO',\n",
    "                  isotope='1,2,3',\n",
    "                  pressure=1.01325,   # bar\n",
    "                  Tvib=1000,          # K\n",
    "                  Trot=300,           # K\n",
    "                  mole_fraction=0.1,\n",
    "                  path_length=1,      # cm\n",
    "                  )\n",
    "s2.apply_slit(0.5, 'nm')\n",
    "s2.plot('radiance')"
   ]
  },
  {
   "cell_type": "markdown",
   "metadata": {},
   "source": [
    "Now calculate your own spectra:"
   ]
  },
  {
   "cell_type": "code",
   "execution_count": null,
   "metadata": {},
   "outputs": [],
   "source": []
  }
 ],
 "metadata": {
  "kernelspec": {
   "display_name": "Python 3",
   "language": "python",
   "name": "python3"
  },
  "language_info": {
   "codemirror_mode": {
    "name": "ipython",
    "version": 3
   },
   "file_extension": ".py",
   "mimetype": "text/x-python",
   "name": "python",
   "nbconvert_exporter": "python",
   "pygments_lexer": "ipython3",
   "version": "3.6.6"
  }
 },
 "nbformat": 4,
 "nbformat_minor": 2
}
